{
 "cells": [
  {
   "cell_type": "markdown",
   "id": "52d86182-dfa0-40f1-bb57-c1059d9c4729",
   "metadata": {},
   "source": [
    "# Steps 3 & 4: Querying a Completion Model with a Custom Text Prompt"
   ]
  },
  {
   "cell_type": "code",
   "execution_count": 2,
   "id": "91b076be-f47b-45b2-bdb3-0ef3faccc94c",
   "metadata": {},
   "outputs": [],
   "source": [
    "import tiktoken"
   ]
  },
  {
   "cell_type": "code",
   "execution_count": 4,
   "id": "4311df0d-f57c-4fd5-bd7c-87c439356b4f",
   "metadata": {},
   "outputs": [],
   "source": [
    "tokenizer = tiktoken.get_encoding('cl100k_base')"
   ]
  },
  {
   "cell_type": "code",
   "execution_count": 5,
   "id": "00a855e9-506b-45dd-99c6-086188b734eb",
   "metadata": {},
   "outputs": [
    {
     "data": {
      "text/plain": [
       "<Encoding 'cl100k_base'>"
      ]
     },
     "execution_count": 5,
     "metadata": {},
     "output_type": "execute_result"
    }
   ],
   "source": [
    "tokenizer"
   ]
  },
  {
   "cell_type": "code",
   "execution_count": 6,
   "id": "6f2138e2-8661-4a1d-b80c-477578723ddf",
   "metadata": {},
   "outputs": [
    {
     "data": {
      "text/plain": [
       "[2028, 374, 264, 3488]"
      ]
     },
     "execution_count": 6,
     "metadata": {},
     "output_type": "execute_result"
    }
   ],
   "source": [
    "tokenizer.encode('This is a question')"
   ]
  },
  {
   "cell_type": "markdown",
   "id": "9f381030-a61f-4c4b-991f-21e4ef51da9b",
   "metadata": {},
   "source": [
    "# Build the Custom Text Prompt:"
   ]
  },
  {
   "cell_type": "code",
   "execution_count": 9,
   "id": "1fc4cbd5-f66d-4be4-88ff-b279a5ee80a6",
   "metadata": {},
   "outputs": [
    {
     "data": {
      "text/plain": [
       "([4599, 1550, 8524, 75272, 19278, 30], 6)"
      ]
     },
     "execution_count": 9,
     "metadata": {},
     "output_type": "execute_result"
    }
   ],
   "source": [
    "question = 'When did Russia invade Ukraine?'\n",
    "tokenized = tokenizer.encode(question)\n",
    "tokenized, len(tokenized)"
   ]
  },
  {
   "cell_type": "markdown",
   "id": "b78527e3-fb15-4400-ad2d-fe9cafd1ee35",
   "metadata": {},
   "source": [
    "# Composing a Prompt"
   ]
  },
  {
   "cell_type": "code",
   "execution_count": 10,
   "id": "58cae251-0170-4c4b-8167-e703af40ac18",
   "metadata": {},
   "outputs": [],
   "source": [
    "prompt_template = \"\"\"\n",
    "Answer the question based on the context below, and if the question\n",
    "can't be answered based on the context, say \"I don't know\"\n",
    "\n",
    "Context: \n",
    "\n",
    "{}\n",
    "\n",
    "---\n",
    "\n",
    "Question: {}\n",
    "Answer:\"\"\""
   ]
  },
  {
   "cell_type": "code",
   "execution_count": 23,
   "id": "dd4e56cb-de7c-47ab-8037-85e8a0e573e1",
   "metadata": {},
   "outputs": [],
   "source": [
    "question = 'When did Russia invade Ukraine?'"
   ]
  },
  {
   "cell_type": "code",
   "execution_count": 24,
   "id": "0998c673-fa86-4a7b-9da4-8fb08f054dbe",
   "metadata": {},
   "outputs": [
    {
     "name": "stdout",
     "output_type": "stream",
     "text": [
      "\n",
      "Answer the question based on the context below, and if the question\n",
      "can't be answered based on the context, say \"I don't know\"\n",
      "\n",
      "Context: \n",
      "\n",
      "context\n",
      "\n",
      "---\n",
      "\n",
      "Question: When did Russia invade Ukraine?\n",
      "Answer:\n"
     ]
    }
   ],
   "source": [
    "print(prompt_template.format('context', question))"
   ]
  },
  {
   "cell_type": "code",
   "execution_count": 43,
   "id": "c9e45441-5c4c-446e-bdbd-90dac815ab55",
   "metadata": {},
   "outputs": [],
   "source": [
    "max_token_count = 1000"
   ]
  },
  {
   "cell_type": "code",
   "execution_count": 26,
   "id": "dc107baf-2404-4a3e-a8bd-21f3557ef79f",
   "metadata": {},
   "outputs": [],
   "source": [
    "tokenized_question = tokenizer.encode(question)\n",
    "tokenized_prompt = tokenizer.encode(prompt_template)"
   ]
  },
  {
   "cell_type": "code",
   "execution_count": 27,
   "id": "96f5f313-414c-4378-b856-e9e128a404cb",
   "metadata": {},
   "outputs": [
    {
     "data": {
      "text/plain": [
       "(6, 41)"
      ]
     },
     "execution_count": 27,
     "metadata": {},
     "output_type": "execute_result"
    }
   ],
   "source": [
    "len(tokenized_question), len(tokenized_prompt)"
   ]
  },
  {
   "cell_type": "code",
   "execution_count": 28,
   "id": "e739ae8c-f9d8-4706-a2aa-6ef8eafd0cbd",
   "metadata": {},
   "outputs": [
    {
     "data": {
      "text/plain": [
       "47"
      ]
     },
     "execution_count": 28,
     "metadata": {},
     "output_type": "execute_result"
    }
   ],
   "source": [
    "current_token_count = len(tokenized_question) + len(tokenized_prompt)\n",
    "current_token_count"
   ]
  },
  {
   "cell_type": "code",
   "execution_count": 30,
   "id": "0b261750-8f57-420f-bd0f-9de98d6ca375",
   "metadata": {},
   "outputs": [
    {
     "data": {
      "text/html": [
       "<div>\n",
       "<style scoped>\n",
       "    .dataframe tbody tr th:only-of-type {\n",
       "        vertical-align: middle;\n",
       "    }\n",
       "\n",
       "    .dataframe tbody tr th {\n",
       "        vertical-align: top;\n",
       "    }\n",
       "\n",
       "    .dataframe thead th {\n",
       "        text-align: right;\n",
       "    }\n",
       "</style>\n",
       "<table border=\"1\" class=\"dataframe\">\n",
       "  <thead>\n",
       "    <tr style=\"text-align: right;\">\n",
       "      <th></th>\n",
       "      <th>text</th>\n",
       "      <th>embeddings</th>\n",
       "      <th>distances</th>\n",
       "    </tr>\n",
       "  </thead>\n",
       "  <tbody>\n",
       "    <tr>\n",
       "      <th>0</th>\n",
       "      <td>March 2 – Russian invasion of Ukraine: Russia ...</td>\n",
       "      <td>[-5.313744259183295e-05, -0.019540982320904732...</td>\n",
       "      <td>0.107204</td>\n",
       "    </tr>\n",
       "    <tr>\n",
       "      <th>1</th>\n",
       "      <td>April 3 – Russian invasion of Ukraine: As Russ...</td>\n",
       "      <td>[-0.012207494117319584, -0.012519340962171555,...</td>\n",
       "      <td>0.111251</td>\n",
       "    </tr>\n",
       "    <tr>\n",
       "      <th>2</th>\n",
       "      <td>November 11 – Russian invasion of Ukraine: Ukr...</td>\n",
       "      <td>[-0.012295315973460674, -0.014077062718570232,...</td>\n",
       "      <td>0.115467</td>\n",
       "    </tr>\n",
       "    <tr>\n",
       "      <th>3</th>\n",
       "      <td>September 21 – Russian invasion of Ukraine: Fo...</td>\n",
       "      <td>[-0.025522246956825256, -0.022120986133813858,...</td>\n",
       "      <td>0.116897</td>\n",
       "    </tr>\n",
       "    <tr>\n",
       "      <th>4</th>\n",
       "      <td>October 29 – Russian invasion of Ukraine: In r...</td>\n",
       "      <td>[-0.00995244737714529, -0.030325081199407578, ...</td>\n",
       "      <td>0.117591</td>\n",
       "    </tr>\n",
       "    <tr>\n",
       "      <th>...</th>\n",
       "      <td>...</td>\n",
       "      <td>...</td>\n",
       "      <td>...</td>\n",
       "    </tr>\n",
       "    <tr>\n",
       "      <th>174</th>\n",
       "      <td>2022 (MMXXII) was a common year starting on S...</td>\n",
       "      <td>[-0.0029914826154708862, -0.019716661423444748...</td>\n",
       "      <td>0.291345</td>\n",
       "    </tr>\n",
       "    <tr>\n",
       "      <th>175</th>\n",
       "      <td>March 31 – Expo 2020 closes in Dubai after a 6...</td>\n",
       "      <td>[-0.0032101301476359367, -0.04666922986507416,...</td>\n",
       "      <td>0.292565</td>\n",
       "    </tr>\n",
       "    <tr>\n",
       "      <th>176</th>\n",
       "      <td>November 11 – The cryptocurrency exchange FTX,...</td>\n",
       "      <td>[0.002234421204775572, -0.025721479207277298, ...</td>\n",
       "      <td>0.293966</td>\n",
       "    </tr>\n",
       "    <tr>\n",
       "      <th>177</th>\n",
       "      <td>November 20 – 2022 Nepalese general election: ...</td>\n",
       "      <td>[-0.00431521050632, -0.0008002328686416149, -0...</td>\n",
       "      <td>0.294986</td>\n",
       "    </tr>\n",
       "    <tr>\n",
       "      <th>178</th>\n",
       "      <td>April 4 – The Intergovernmental Panel on Clima...</td>\n",
       "      <td>[-0.010512178763747215, -0.01631222479045391, ...</td>\n",
       "      <td>0.298069</td>\n",
       "    </tr>\n",
       "  </tbody>\n",
       "</table>\n",
       "<p>179 rows × 3 columns</p>\n",
       "</div>"
      ],
      "text/plain": [
       "                                                  text  \\\n",
       "0    March 2 – Russian invasion of Ukraine: Russia ...   \n",
       "1    April 3 – Russian invasion of Ukraine: As Russ...   \n",
       "2    November 11 – Russian invasion of Ukraine: Ukr...   \n",
       "3    September 21 – Russian invasion of Ukraine: Fo...   \n",
       "4    October 29 – Russian invasion of Ukraine: In r...   \n",
       "..                                                 ...   \n",
       "174   2022 (MMXXII) was a common year starting on S...   \n",
       "175  March 31 – Expo 2020 closes in Dubai after a 6...   \n",
       "176  November 11 – The cryptocurrency exchange FTX,...   \n",
       "177  November 20 – 2022 Nepalese general election: ...   \n",
       "178  April 4 – The Intergovernmental Panel on Clima...   \n",
       "\n",
       "                                            embeddings  distances  \n",
       "0    [-5.313744259183295e-05, -0.019540982320904732...   0.107204  \n",
       "1    [-0.012207494117319584, -0.012519340962171555,...   0.111251  \n",
       "2    [-0.012295315973460674, -0.014077062718570232,...   0.115467  \n",
       "3    [-0.025522246956825256, -0.022120986133813858,...   0.116897  \n",
       "4    [-0.00995244737714529, -0.030325081199407578, ...   0.117591  \n",
       "..                                                 ...        ...  \n",
       "174  [-0.0029914826154708862, -0.019716661423444748...   0.291345  \n",
       "175  [-0.0032101301476359367, -0.04666922986507416,...   0.292565  \n",
       "176  [0.002234421204775572, -0.025721479207277298, ...   0.293966  \n",
       "177  [-0.00431521050632, -0.0008002328686416149, -0...   0.294986  \n",
       "178  [-0.010512178763747215, -0.01631222479045391, ...   0.298069  \n",
       "\n",
       "[179 rows x 3 columns]"
      ]
     },
     "execution_count": 30,
     "metadata": {},
     "output_type": "execute_result"
    }
   ],
   "source": [
    "import pandas as pd\n",
    "\n",
    "df = pd.read_csv('distances_sorted.csv')\n",
    "df"
   ]
  },
  {
   "cell_type": "code",
   "execution_count": 45,
   "id": "5c0f60cb-f18f-45e0-acf1-fd7d02ea67db",
   "metadata": {},
   "outputs": [],
   "source": [
    "context = []\n",
    "current_token_count = len(tokenized_question) + len(tokenized_prompt)\n",
    "\n",
    "for text in df.text.values:\n",
    "    text_token_count = len(tokenizer.encode(text))\n",
    "    try:\n",
    "       current_token_count += text_token_count\n",
    "    except:\n",
    "        print(text_token_count)\n",
    "\n",
    "    if current_token_count <= max_token_count:\n",
    "        context.append(text)\n",
    "    else:\n",
    "        break"
   ]
  },
  {
   "cell_type": "code",
   "execution_count": 46,
   "id": "584d1cc7-8fa4-4897-8265-661b1cf360e0",
   "metadata": {},
   "outputs": [
    {
     "data": {
      "text/plain": [
       "['March 2 – Russian invasion of Ukraine: Russia seizes its first large city, the Black Sea port of Kherson, as shelling intensifies across many parts of Ukraine, including civilian areas.',\n",
       " \"April 3 – Russian invasion of Ukraine: As Russia's forces retreat from areas near Kyiv, it is accused by Ukraine of war crimes, amid mounting evidence of indiscriminate civilian killings, including the Bucha massacre.\",\n",
       " 'November 11 – Russian invasion of Ukraine: Ukrainian forces recapture Kherson, the only regional capital to be taken by Russia since the start of the war.',\n",
       " 'September 21 – Russian invasion of Ukraine: Following a major counteroffensive by Ukraine in the east of the country, Putin announces a partial mobilisation of Russia and threatens nuclear retaliation, saying \"this is not a bluff\".',\n",
       " 'October 29 – Russian invasion of Ukraine: In response to an alleged Ukrainian drone attack against the Black Sea Fleet, Russia withdraw from a U.N.-brokered deal on the shipment of grain, which had brought down soaring global food prices.',\n",
       " 'May 16 – Russian invasion of Ukraine: The Siege of Mariupol ends in a Russian victory as Ukrainian troops are evacuated from Mariupol.',\n",
       " 'October 8 – Russian invasion of Ukraine: An explosion occurs on the Crimean Bridge connecting Crimea and Russia, killing three and causing a partial collapse of the only road bridge between the Crimean Peninsula and the Russian mainland. Two days later, retaliatory missile strikes are conducted by Russia across Ukraine, the most widespread since the start of the invasion, notably including attacks on Kyiv.',\n",
       " \"February 21–24 – Russian President Vladimir Putin signs a decree declaring the Luhansk People's Republic and Donetsk People's Republic as independent from Ukraine, and, despite international condemnation and sanctions, begins a full-scale invasion of Ukraine; at dawn on 24 February missiles strike Kyiv.\",\n",
       " 'February 28 – Russian invasion of Ukraine: Russian and Ukrainian officials meet on the Belarus-Ukraine border for the first round of peace talks, with no resolution.',\n",
       " \"March 1 – Russian invasion of Ukraine: In an emergency session, United Nations member states pass a resolution deploring Russia's invasion of Ukraine and calling for the immediate withdrawal of its forces.\",\n",
       " \"March 9 – Russian invasion of Ukraine: Russia is condemned by world leaders following an air strike in Mariupol that destroys a hospital including a maternity and children's ward.\",\n",
       " 'March 16 – Russian invasion of Ukraine: A Russian airstrike on the Mariupol Theatre in Mariupol kills an estimated 600 civilians sheltering inside.',\n",
       " 'April 8 – Russian invasion of Ukraine: Russia is condemned by world leaders following a missile attack on Kramatorsk train station, which kills 59 civilians trying to evacuate, including seven children.',\n",
       " 'April 18 – Russian invasion of Ukraine: The battle of Donbas begins, leading to the deaths of several thousand military personnel and civilians.',\n",
       " 'March 2 – Russian invasion of Ukraine: The United Nations reports that over a million refugees have now fled from Ukraine to other countries.',\n",
       " 'September 30 – Annexation of Southern and Eastern Ukraine: Russian President Vladimir Putin signs treaties absorbing the occupied regions of Donetsk, Luhansk, Kherson and Zaporizhzhia into the Russian Federation. This annexation is seen as a breach of international law by the global community.',\n",
       " 'February 27 – Russian invasion of Ukraine: Putin orders Russia\\'s nuclear deterrent forces to be on \"special alert\", their highest level, in response to what he calls \"aggressive statements\" by NATO. The move is condemned by the US.',\n",
       " 'February 27 – Russian invasion of Ukraine: European nations ban Russian flights in their airspace.',\n",
       " 'March 24 – Russian invasion of Ukraine: NATO announces that four new battlegroups totaling 40,000 troops will be deployed in Bulgaria, Hungary, Romania and Slovakia, along with enhanced readiness for potential chemical, biological, radiological and nuclear threats.',\n",
       " 'April 14 – Russian invasion of Ukraine: The Russian flagship Moskva becomes the largest warship to be sunk in action since World War II. Ukraine claims to have struck it with Neptune anti-ship missiles, while Russia claims it sank during stormy weather after an onboard fire.',\n",
       " 'February 26 – Russian invasion of Ukraine: The EU, US, and their allies commit to removing Russian banks from the SWIFT payment system, as well as imposing measures on the Russian Central Bank and further restrictions on Russian elites. These and other sanctions fuel a financial crisis in Russia.',\n",
       " 'Russian invasion of Ukraine: Russia is condemned by world leaders following an attack by its troops on the Zaporizhzhia nuclear plant – the largest in Europe – which led to a fire at the site.']"
      ]
     },
     "execution_count": 46,
     "metadata": {},
     "output_type": "execute_result"
    }
   ],
   "source": [
    "context"
   ]
  },
  {
   "cell_type": "code",
   "execution_count": 48,
   "id": "b6cc6586-b35e-49e0-821b-75e81c6baf8f",
   "metadata": {},
   "outputs": [
    {
     "name": "stdout",
     "output_type": "stream",
     "text": [
      "\n",
      "Answer the question based on the context below, and if the question\n",
      "can't be answered based on the context, say \"I don't know\"\n",
      "\n",
      "Context: \n",
      "\n",
      "['March 2 – Russian invasion of Ukraine: Russia seizes its first large city, the Black Sea port of Kherson, as shelling intensifies across many parts of Ukraine, including civilian areas.', \"April 3 – Russian invasion of Ukraine: As Russia's forces retreat from areas near Kyiv, it is accused by Ukraine of war crimes, amid mounting evidence of indiscriminate civilian killings, including the Bucha massacre.\", 'November 11 – Russian invasion of Ukraine: Ukrainian forces recapture Kherson, the only regional capital to be taken by Russia since the start of the war.', 'September 21 – Russian invasion of Ukraine: Following a major counteroffensive by Ukraine in the east of the country, Putin announces a partial mobilisation of Russia and threatens nuclear retaliation, saying \"this is not a bluff\".', 'October 29 – Russian invasion of Ukraine: In response to an alleged Ukrainian drone attack against the Black Sea Fleet, Russia withdraw from a U.N.-brokered deal on the shipment of grain, which had brought down soaring global food prices.', 'May 16 – Russian invasion of Ukraine: The Siege of Mariupol ends in a Russian victory as Ukrainian troops are evacuated from Mariupol.', 'October 8 – Russian invasion of Ukraine: An explosion occurs on the Crimean Bridge connecting Crimea and Russia, killing three and causing a partial collapse of the only road bridge between the Crimean Peninsula and the Russian mainland. Two days later, retaliatory missile strikes are conducted by Russia across Ukraine, the most widespread since the start of the invasion, notably including attacks on Kyiv.', \"February 21–24 – Russian President Vladimir Putin signs a decree declaring the Luhansk People's Republic and Donetsk People's Republic as independent from Ukraine, and, despite international condemnation and sanctions, begins a full-scale invasion of Ukraine; at dawn on 24 February missiles strike Kyiv.\", 'February 28 – Russian invasion of Ukraine: Russian and Ukrainian officials meet on the Belarus-Ukraine border for the first round of peace talks, with no resolution.', \"March 1 – Russian invasion of Ukraine: In an emergency session, United Nations member states pass a resolution deploring Russia's invasion of Ukraine and calling for the immediate withdrawal of its forces.\", \"March 9 – Russian invasion of Ukraine: Russia is condemned by world leaders following an air strike in Mariupol that destroys a hospital including a maternity and children's ward.\", 'March 16 – Russian invasion of Ukraine: A Russian airstrike on the Mariupol Theatre in Mariupol kills an estimated 600 civilians sheltering inside.', 'April 8 – Russian invasion of Ukraine: Russia is condemned by world leaders following a missile attack on Kramatorsk train station, which kills 59 civilians trying to evacuate, including seven children.', 'April 18 – Russian invasion of Ukraine: The battle of Donbas begins, leading to the deaths of several thousand military personnel and civilians.', 'March 2 – Russian invasion of Ukraine: The United Nations reports that over a million refugees have now fled from Ukraine to other countries.', 'September 30 – Annexation of Southern and Eastern Ukraine: Russian President Vladimir Putin signs treaties absorbing the occupied regions of Donetsk, Luhansk, Kherson and Zaporizhzhia into the Russian Federation. This annexation is seen as a breach of international law by the global community.', 'February 27 – Russian invasion of Ukraine: Putin orders Russia\\'s nuclear deterrent forces to be on \"special alert\", their highest level, in response to what he calls \"aggressive statements\" by NATO. The move is condemned by the US.', 'February 27 – Russian invasion of Ukraine: European nations ban Russian flights in their airspace.', 'March 24 – Russian invasion of Ukraine: NATO announces that four new battlegroups totaling 40,000 troops will be deployed in Bulgaria, Hungary, Romania and Slovakia, along with enhanced readiness for potential chemical, biological, radiological and nuclear threats.', 'April 14 – Russian invasion of Ukraine: The Russian flagship Moskva becomes the largest warship to be sunk in action since World War II. Ukraine claims to have struck it with Neptune anti-ship missiles, while Russia claims it sank during stormy weather after an onboard fire.', 'February 26 – Russian invasion of Ukraine: The EU, US, and their allies commit to removing Russian banks from the SWIFT payment system, as well as imposing measures on the Russian Central Bank and further restrictions on Russian elites. These and other sanctions fuel a financial crisis in Russia.', 'Russian invasion of Ukraine: Russia is condemned by world leaders following an attack by its troops on the Zaporizhzhia nuclear plant – the largest in Europe – which led to a fire at the site.']\n",
      "\n",
      "---\n",
      "\n",
      "Question: When did Russia invade Ukraine?\n",
      "Answer:\n"
     ]
    }
   ],
   "source": [
    "print(prompt_template.format(context, question))"
   ]
  },
  {
   "cell_type": "code",
   "execution_count": 50,
   "id": "d9c48432-a210-48a1-8548-737da66371d8",
   "metadata": {},
   "outputs": [
    {
     "name": "stdout",
     "output_type": "stream",
     "text": [
      "\n",
      "Answer the question based on the context below, and if the question\n",
      "can't be answered based on the context, say \"I don't know\"\n",
      "\n",
      "Context: \n",
      "\n",
      "March 2 – Russian invasion of Ukraine: Russia seizes its first large city, the Black Sea port of Kherson, as shelling intensifies across many parts of Ukraine, including civilian areas.\n",
      "\n",
      "###\n",
      "\n",
      "April 3 – Russian invasion of Ukraine: As Russia's forces retreat from areas near Kyiv, it is accused by Ukraine of war crimes, amid mounting evidence of indiscriminate civilian killings, including the Bucha massacre.\n",
      "\n",
      "###\n",
      "\n",
      "November 11 – Russian invasion of Ukraine: Ukrainian forces recapture Kherson, the only regional capital to be taken by Russia since the start of the war.\n",
      "\n",
      "###\n",
      "\n",
      "September 21 – Russian invasion of Ukraine: Following a major counteroffensive by Ukraine in the east of the country, Putin announces a partial mobilisation of Russia and threatens nuclear retaliation, saying \"this is not a bluff\".\n",
      "\n",
      "###\n",
      "\n",
      "October 29 – Russian invasion of Ukraine: In response to an alleged Ukrainian drone attack against the Black Sea Fleet, Russia withdraw from a U.N.-brokered deal on the shipment of grain, which had brought down soaring global food prices.\n",
      "\n",
      "###\n",
      "\n",
      "May 16 – Russian invasion of Ukraine: The Siege of Mariupol ends in a Russian victory as Ukrainian troops are evacuated from Mariupol.\n",
      "\n",
      "###\n",
      "\n",
      "October 8 – Russian invasion of Ukraine: An explosion occurs on the Crimean Bridge connecting Crimea and Russia, killing three and causing a partial collapse of the only road bridge between the Crimean Peninsula and the Russian mainland. Two days later, retaliatory missile strikes are conducted by Russia across Ukraine, the most widespread since the start of the invasion, notably including attacks on Kyiv.\n",
      "\n",
      "###\n",
      "\n",
      "February 21–24 – Russian President Vladimir Putin signs a decree declaring the Luhansk People's Republic and Donetsk People's Republic as independent from Ukraine, and, despite international condemnation and sanctions, begins a full-scale invasion of Ukraine; at dawn on 24 February missiles strike Kyiv.\n",
      "\n",
      "###\n",
      "\n",
      "February 28 – Russian invasion of Ukraine: Russian and Ukrainian officials meet on the Belarus-Ukraine border for the first round of peace talks, with no resolution.\n",
      "\n",
      "###\n",
      "\n",
      "March 1 – Russian invasion of Ukraine: In an emergency session, United Nations member states pass a resolution deploring Russia's invasion of Ukraine and calling for the immediate withdrawal of its forces.\n",
      "\n",
      "###\n",
      "\n",
      "March 9 – Russian invasion of Ukraine: Russia is condemned by world leaders following an air strike in Mariupol that destroys a hospital including a maternity and children's ward.\n",
      "\n",
      "###\n",
      "\n",
      "March 16 – Russian invasion of Ukraine: A Russian airstrike on the Mariupol Theatre in Mariupol kills an estimated 600 civilians sheltering inside.\n",
      "\n",
      "###\n",
      "\n",
      "April 8 – Russian invasion of Ukraine: Russia is condemned by world leaders following a missile attack on Kramatorsk train station, which kills 59 civilians trying to evacuate, including seven children.\n",
      "\n",
      "###\n",
      "\n",
      "April 18 – Russian invasion of Ukraine: The battle of Donbas begins, leading to the deaths of several thousand military personnel and civilians.\n",
      "\n",
      "###\n",
      "\n",
      "March 2 – Russian invasion of Ukraine: The United Nations reports that over a million refugees have now fled from Ukraine to other countries.\n",
      "\n",
      "###\n",
      "\n",
      "September 30 – Annexation of Southern and Eastern Ukraine: Russian President Vladimir Putin signs treaties absorbing the occupied regions of Donetsk, Luhansk, Kherson and Zaporizhzhia into the Russian Federation. This annexation is seen as a breach of international law by the global community.\n",
      "\n",
      "###\n",
      "\n",
      "February 27 – Russian invasion of Ukraine: Putin orders Russia's nuclear deterrent forces to be on \"special alert\", their highest level, in response to what he calls \"aggressive statements\" by NATO. The move is condemned by the US.\n",
      "\n",
      "###\n",
      "\n",
      "February 27 – Russian invasion of Ukraine: European nations ban Russian flights in their airspace.\n",
      "\n",
      "###\n",
      "\n",
      "March 24 – Russian invasion of Ukraine: NATO announces that four new battlegroups totaling 40,000 troops will be deployed in Bulgaria, Hungary, Romania and Slovakia, along with enhanced readiness for potential chemical, biological, radiological and nuclear threats.\n",
      "\n",
      "###\n",
      "\n",
      "April 14 – Russian invasion of Ukraine: The Russian flagship Moskva becomes the largest warship to be sunk in action since World War II. Ukraine claims to have struck it with Neptune anti-ship missiles, while Russia claims it sank during stormy weather after an onboard fire.\n",
      "\n",
      "###\n",
      "\n",
      "February 26 – Russian invasion of Ukraine: The EU, US, and their allies commit to removing Russian banks from the SWIFT payment system, as well as imposing measures on the Russian Central Bank and further restrictions on Russian elites. These and other sanctions fuel a financial crisis in Russia.\n",
      "\n",
      "###\n",
      "\n",
      "Russian invasion of Ukraine: Russia is condemned by world leaders following an attack by its troops on the Zaporizhzhia nuclear plant – the largest in Europe – which led to a fire at the site.\n",
      "\n",
      "---\n",
      "\n",
      "Question: When did Russia invade Ukraine?\n",
      "Answer:\n"
     ]
    }
   ],
   "source": [
    "print(prompt_template.format('\\n\\n###\\n\\n'.join(context), question))"
   ]
  },
  {
   "cell_type": "markdown",
   "id": "57088afc-7932-454a-9c60-39f9e06950b0",
   "metadata": {},
   "source": [
    "# Send Custom Text Prompt to Completion Model\r\n",
    "\n",
    "Using the prompt stringweu created,we will  query an OpenAI Completion model to get an answer. Specify a max_tokens of 150low"
   ]
  },
  {
   "cell_type": "code",
   "execution_count": 51,
   "id": "871e6434-d517-42d0-af7f-a4e4554f0b64",
   "metadata": {},
   "outputs": [],
   "source": [
    "import openai\n",
    "\n",
    "openai.api_key = ''"
   ]
  },
  {
   "cell_type": "code",
   "execution_count": 53,
   "id": "4b40dda1-0f9e-4c90-b842-7af4a823e47f",
   "metadata": {},
   "outputs": [],
   "source": [
    "response = openai.Completion.create(\n",
    "    model='text-davinci-003', \n",
    "    prompt=prompt_template.format('\\n\\n###\\n\\n'.join(context), question)\n",
    ")"
   ]
  },
  {
   "cell_type": "code",
   "execution_count": 54,
   "id": "da524ffc-7b85-4cc4-8a71-aa529230f6d6",
   "metadata": {},
   "outputs": [
    {
     "data": {
      "text/plain": [
       "' February 21–24, 2020.'"
      ]
     },
     "execution_count": 54,
     "metadata": {},
     "output_type": "execute_result"
    }
   ],
   "source": [
    "response['choices'][0]['text']"
   ]
  }
 ],
 "metadata": {
  "kernelspec": {
   "display_name": "Python 3 (ipykernel)",
   "language": "python",
   "name": "python3"
  },
  "language_info": {
   "codemirror_mode": {
    "name": "ipython",
    "version": 3
   },
   "file_extension": ".py",
   "mimetype": "text/x-python",
   "name": "python",
   "nbconvert_exporter": "python",
   "pygments_lexer": "ipython3",
   "version": "3.8.17"
  }
 },
 "nbformat": 4,
 "nbformat_minor": 5
}
