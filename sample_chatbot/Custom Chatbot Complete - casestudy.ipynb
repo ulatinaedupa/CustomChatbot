{
 "cells": [
  {
   "cell_type": "markdown",
   "id": "1417fd61",
   "metadata": {},
   "source": [
    "# Build a Custom OpenAI Chatbot with ML-Driven Prompt Engineering\n",
    "\n",
    "The code below is designed to run as-is with one exception: **the OpenAI API key must be specified**. Edit the cell below to add your API key between the double quotes."
   ]
  },
  {
   "cell_type": "code",
   "execution_count": 1,
   "id": "3e212665",
   "metadata": {},
   "outputs": [],
   "source": [
    "import openai\n",
    "openai.api_key = \"\""
   ]
  },
  {
   "cell_type": "markdown",
   "id": "1c45c16c",
   "metadata": {},
   "source": [
    "## Step 0: Inspecting Non-Customized Results\n",
    "\n",
    "Before we perform any prompt engineering, **let's ask the OpenAI model some questions and see how it answers**.\n",
    "\n",
    "(If you encounter an `AuthenticationError` when running this code, make sure that you have added a valid API key to the cell above and executed it.)"
   ]
  },
  {
   "cell_type": "code",
   "execution_count": 2,
   "id": "a920753f",
   "metadata": {},
   "outputs": [
    {
     "name": "stdout",
     "output_type": "stream",
     "text": [
      "Russia invaded Ukraine in 2014.\n"
     ]
    }
   ],
   "source": [
    "ukraine_prompt = \"\"\"\n",
    "Question: \"When did Russia invade Ukraine?\"\n",
    "Answer:\n",
    "\"\"\"\n",
    "initial_ukraine_answer = openai.Completion.create(\n",
    "    model=\"text-davinci-003\",\n",
    "    prompt=ukraine_prompt,\n",
    "    max_tokens=150\n",
    ")[\"choices\"][0][\"text\"].strip()\n",
    "print(initial_ukraine_answer)"
   ]
  },
  {
   "cell_type": "code",
   "execution_count": 3,
   "id": "8f85c675",
   "metadata": {},
   "outputs": [
    {
     "name": "stdout",
     "output_type": "stream",
     "text": [
      "Twitter is owned by the publicly traded company, Twitter Inc. (NYSE: TWTR).\n"
     ]
    }
   ],
   "source": [
    "twitter_prompt = \"\"\"\n",
    "Question: \"Who owns Twitter?\"\n",
    "Answer:\n",
    "\"\"\"\n",
    "initial_twitter_answer = openai.Completion.create(\n",
    "    model=\"text-davinci-003\",\n",
    "    prompt=twitter_prompt,\n",
    "    max_tokens=150\n",
    ")[\"choices\"][0][\"text\"].strip()\n",
    "print(initial_twitter_answer)"
   ]
  },
  {
   "cell_type": "markdown",
   "id": "66923e33",
   "metadata": {},
   "source": [
    "The model is answering this way because the training data ends in Jan 2022. **Our task will be to provide context from 2022 to help the model answer these questions correctly.**"
   ]
  },
  {
   "cell_type": "markdown",
   "id": "aee2b145",
   "metadata": {},
   "source": [
    "# Step 1: Prepare Dataset"
   ]
  },
  {
   "cell_type": "markdown",
   "id": "c3bb8bb1",
   "metadata": {},
   "source": [
    "## Loading and Wrangling Data"
   ]
  },
  {
   "cell_type": "markdown",
   "id": "8d50cc7e",
   "metadata": {},
   "source": [
    "**The data should be loaded into a pandas `DataFrame` called `df` where each row represents a text sample, and there is only one column, `\"text\"`, which contains the raw text data.**\n",
    "\n",
    "In this particular case we are collecting data from [the Wikipedia page for the year 2022](https://en.wikipedia.org/wiki/2022) and performing some data wrangling to get it into the appropriate format. Don't worry too much about the details here, since data wrangling looks different for every dataset!"
   ]
  },
  {
   "cell_type": "code",
   "execution_count": 4,
   "id": "5f517cb9",
   "metadata": {},
   "outputs": [
    {
     "data": {
      "text/html": [
       "<div>\n",
       "<style scoped>\n",
       "    .dataframe tbody tr th:only-of-type {\n",
       "        vertical-align: middle;\n",
       "    }\n",
       "\n",
       "    .dataframe tbody tr th {\n",
       "        vertical-align: top;\n",
       "    }\n",
       "\n",
       "    .dataframe thead th {\n",
       "        text-align: right;\n",
       "    }\n",
       "</style>\n",
       "<table border=\"1\" class=\"dataframe\">\n",
       "  <thead>\n",
       "    <tr style=\"text-align: right;\">\n",
       "      <th></th>\n",
       "      <th>text</th>\n",
       "    </tr>\n",
       "  </thead>\n",
       "  <tbody>\n",
       "    <tr>\n",
       "      <th>0</th>\n",
       "      <td>– 2022 (MMXXII) was a common year starting on...</td>\n",
       "    </tr>\n",
       "    <tr>\n",
       "      <th>1</th>\n",
       "      <td>– 2022 saw the removal of nearly all COVID-19...</td>\n",
       "    </tr>\n",
       "    <tr>\n",
       "      <th>2</th>\n",
       "      <td>– 2022 was also dominated by wars and armed c...</td>\n",
       "    </tr>\n",
       "    <tr>\n",
       "      <th>10</th>\n",
       "      <td>January 1 – The Regional Comprehensive Econom...</td>\n",
       "    </tr>\n",
       "    <tr>\n",
       "      <th>11</th>\n",
       "      <td>January 2 – Abdalla Hamdok resigns as Prime Mi...</td>\n",
       "    </tr>\n",
       "    <tr>\n",
       "      <th>...</th>\n",
       "      <td>...</td>\n",
       "    </tr>\n",
       "    <tr>\n",
       "      <th>238</th>\n",
       "      <td>December 17 – Leo Varadkar succeeds Micheál Ma...</td>\n",
       "    </tr>\n",
       "    <tr>\n",
       "      <th>239</th>\n",
       "      <td>December 19 – At the UN Biodiversity Conferenc...</td>\n",
       "    </tr>\n",
       "    <tr>\n",
       "      <th>240</th>\n",
       "      <td>December 21–26 – A major winter storm hits the...</td>\n",
       "    </tr>\n",
       "    <tr>\n",
       "      <th>241</th>\n",
       "      <td>December 24 – 2022 Fijian general election: Th...</td>\n",
       "    </tr>\n",
       "    <tr>\n",
       "      <th>242</th>\n",
       "      <td>December 29 – Brazilian football legend Pelé d...</td>\n",
       "    </tr>\n",
       "  </tbody>\n",
       "</table>\n",
       "<p>179 rows × 1 columns</p>\n",
       "</div>"
      ],
      "text/plain": [
       "                                                  text\n",
       "0     – 2022 (MMXXII) was a common year starting on...\n",
       "1     – 2022 saw the removal of nearly all COVID-19...\n",
       "2     – 2022 was also dominated by wars and armed c...\n",
       "10    January 1 – The Regional Comprehensive Econom...\n",
       "11   January 2 – Abdalla Hamdok resigns as Prime Mi...\n",
       "..                                                 ...\n",
       "238  December 17 – Leo Varadkar succeeds Micheál Ma...\n",
       "239  December 19 – At the UN Biodiversity Conferenc...\n",
       "240  December 21–26 – A major winter storm hits the...\n",
       "241  December 24 – 2022 Fijian general election: Th...\n",
       "242  December 29 – Brazilian football legend Pelé d...\n",
       "\n",
       "[179 rows x 1 columns]"
      ]
     },
     "execution_count": 4,
     "metadata": {},
     "output_type": "execute_result"
    }
   ],
   "source": [
    "from dateutil.parser import parse\n",
    "import pandas as pd\n",
    "import requests\n",
    "\n",
    "# Get the Wikipedia page for \"2022\" since OpenAI's models stop in 2021\n",
    "resp = requests.get(\"https://en.wikipedia.org/w/api.php?action=query&prop=extracts&exlimit=1&titles=2022&explaintext=1&formatversion=2&format=json\")\n",
    "\n",
    "# Load page text into a dataframe\n",
    "df = pd.DataFrame()\n",
    "df[\"text\"] = resp.json()[\"query\"][\"pages\"][0][\"extract\"].split(\"\\n\")\n",
    "\n",
    "# Clean up text to remove empty lines and headings\n",
    "df = df[(df[\"text\"].str.len() > 0) & (~df[\"text\"].str.startswith(\"==\"))]\n",
    "\n",
    "# In some cases dates are used as headings instead of being part of the\n",
    "# text sample; adjust so dated text samples start with dates\n",
    "prefix = \"\"\n",
    "for (i, row) in df.iterrows():\n",
    "    # If the row already has \" - \", it already has the needed date prefix\n",
    "    if \" – \" not in row[\"text\"]:\n",
    "        try:\n",
    "            # If the row's text is a date, set it as the new prefix\n",
    "            parse(row[\"text\"])\n",
    "            prefix = row[\"text\"]\n",
    "        except:\n",
    "            # If the row's text isn't a date, add the prefix\n",
    "            row[\"text\"] = prefix + \" – \" + row[\"text\"]\n",
    "df = df[df[\"text\"].str.contains(\" – \")]\n",
    "df"
   ]
  },
  {
   "cell_type": "markdown",
   "id": "14c88a55",
   "metadata": {},
   "source": [
    "## Generating Embeddings\n",
    "\n",
    "We'll use the `Embedding` tooling from OpenAI [documentation here](https://platform.openai.com/docs/guides/embeddings/embeddings) to create vectors representing each row of our custom dataset."
   ]
  },
  {
   "cell_type": "markdown",
   "id": "0d91eeef",
   "metadata": {},
   "source": [
    "In order to avoid a `RateLimitError` we'll send our data in batches to the `Embedding.create` function."
   ]
  },
  {
   "cell_type": "code",
   "execution_count": 5,
   "id": "0e23bb24",
   "metadata": {},
   "outputs": [
    {
     "data": {
      "text/html": [
       "<div>\n",
       "<style scoped>\n",
       "    .dataframe tbody tr th:only-of-type {\n",
       "        vertical-align: middle;\n",
       "    }\n",
       "\n",
       "    .dataframe tbody tr th {\n",
       "        vertical-align: top;\n",
       "    }\n",
       "\n",
       "    .dataframe thead th {\n",
       "        text-align: right;\n",
       "    }\n",
       "</style>\n",
       "<table border=\"1\" class=\"dataframe\">\n",
       "  <thead>\n",
       "    <tr style=\"text-align: right;\">\n",
       "      <th></th>\n",
       "      <th>text</th>\n",
       "      <th>embeddings</th>\n",
       "    </tr>\n",
       "  </thead>\n",
       "  <tbody>\n",
       "    <tr>\n",
       "      <th>0</th>\n",
       "      <td>– 2022 (MMXXII) was a common year starting on...</td>\n",
       "      <td>[0.00010590282181510702, -0.01799856312572956,...</td>\n",
       "    </tr>\n",
       "    <tr>\n",
       "      <th>1</th>\n",
       "      <td>– 2022 saw the removal of nearly all COVID-19...</td>\n",
       "      <td>[-0.009630735032260418, -0.023012317717075348,...</td>\n",
       "    </tr>\n",
       "    <tr>\n",
       "      <th>2</th>\n",
       "      <td>– 2022 was also dominated by wars and armed c...</td>\n",
       "      <td>[-0.009752900339663029, -0.0154692018404603, 0...</td>\n",
       "    </tr>\n",
       "    <tr>\n",
       "      <th>10</th>\n",
       "      <td>January 1 – The Regional Comprehensive Econom...</td>\n",
       "      <td>[-0.000557306339032948, -0.02417675219476223, ...</td>\n",
       "    </tr>\n",
       "    <tr>\n",
       "      <th>11</th>\n",
       "      <td>January 2 – Abdalla Hamdok resigns as Prime Mi...</td>\n",
       "      <td>[-0.014919677749276161, 0.0010699920821934938,...</td>\n",
       "    </tr>\n",
       "    <tr>\n",
       "      <th>...</th>\n",
       "      <td>...</td>\n",
       "      <td>...</td>\n",
       "    </tr>\n",
       "    <tr>\n",
       "      <th>238</th>\n",
       "      <td>December 17 – Leo Varadkar succeeds Micheál Ma...</td>\n",
       "      <td>[0.008589201606810093, -0.02222566492855549, -...</td>\n",
       "    </tr>\n",
       "    <tr>\n",
       "      <th>239</th>\n",
       "      <td>December 19 – At the UN Biodiversity Conferenc...</td>\n",
       "      <td>[0.0017541300039738417, -0.009293699637055397,...</td>\n",
       "    </tr>\n",
       "    <tr>\n",
       "      <th>240</th>\n",
       "      <td>December 21–26 – A major winter storm hits the...</td>\n",
       "      <td>[-0.02456366829574108, -0.020976591855287552, ...</td>\n",
       "    </tr>\n",
       "    <tr>\n",
       "      <th>241</th>\n",
       "      <td>December 24 – 2022 Fijian general election: Th...</td>\n",
       "      <td>[-0.011555586010217667, -0.009334595873951912,...</td>\n",
       "    </tr>\n",
       "    <tr>\n",
       "      <th>242</th>\n",
       "      <td>December 29 – Brazilian football legend Pelé d...</td>\n",
       "      <td>[-0.0032087962608784437, 0.00774135859683156, ...</td>\n",
       "    </tr>\n",
       "  </tbody>\n",
       "</table>\n",
       "<p>179 rows × 2 columns</p>\n",
       "</div>"
      ],
      "text/plain": [
       "                                                  text  \\\n",
       "0     – 2022 (MMXXII) was a common year starting on...   \n",
       "1     – 2022 saw the removal of nearly all COVID-19...   \n",
       "2     – 2022 was also dominated by wars and armed c...   \n",
       "10    January 1 – The Regional Comprehensive Econom...   \n",
       "11   January 2 – Abdalla Hamdok resigns as Prime Mi...   \n",
       "..                                                 ...   \n",
       "238  December 17 – Leo Varadkar succeeds Micheál Ma...   \n",
       "239  December 19 – At the UN Biodiversity Conferenc...   \n",
       "240  December 21–26 – A major winter storm hits the...   \n",
       "241  December 24 – 2022 Fijian general election: Th...   \n",
       "242  December 29 – Brazilian football legend Pelé d...   \n",
       "\n",
       "                                            embeddings  \n",
       "0    [0.00010590282181510702, -0.01799856312572956,...  \n",
       "1    [-0.009630735032260418, -0.023012317717075348,...  \n",
       "2    [-0.009752900339663029, -0.0154692018404603, 0...  \n",
       "10   [-0.000557306339032948, -0.02417675219476223, ...  \n",
       "11   [-0.014919677749276161, 0.0010699920821934938,...  \n",
       "..                                                 ...  \n",
       "238  [0.008589201606810093, -0.02222566492855549, -...  \n",
       "239  [0.0017541300039738417, -0.009293699637055397,...  \n",
       "240  [-0.02456366829574108, -0.020976591855287552, ...  \n",
       "241  [-0.011555586010217667, -0.009334595873951912,...  \n",
       "242  [-0.0032087962608784437, 0.00774135859683156, ...  \n",
       "\n",
       "[179 rows x 2 columns]"
      ]
     },
     "execution_count": 5,
     "metadata": {},
     "output_type": "execute_result"
    }
   ],
   "source": [
    "EMBEDDING_MODEL_NAME = \"text-embedding-ada-002\"\n",
    "batch_size = 100\n",
    "embeddings = []\n",
    "for i in range(0, len(df), batch_size):\n",
    "    # Send text data to OpenAI model to get embeddings\n",
    "    response = openai.Embedding.create(\n",
    "        input=df.iloc[i:i+batch_size][\"text\"].tolist(),\n",
    "        engine=EMBEDDING_MODEL_NAME\n",
    "    )\n",
    "    \n",
    "    # Add embeddings to list\n",
    "    embeddings.extend([data[\"embedding\"] for data in response[\"data\"]])\n",
    "\n",
    "# Add embeddings list to dataframe\n",
    "df[\"embeddings\"] = embeddings\n",
    "df"
   ]
  },
  {
   "cell_type": "markdown",
   "id": "189c66e9",
   "metadata": {},
   "source": [
    "In order to avoid having to run that code again in the future, we'll save the generated embeddings as a CSV file."
   ]
  },
  {
   "cell_type": "code",
   "execution_count": 6,
   "id": "53f4909c",
   "metadata": {},
   "outputs": [],
   "source": [
    "df.to_csv(\"embeddings.csv\")"
   ]
  },
  {
   "cell_type": "code",
   "execution_count": 7,
   "id": "8cdddaed",
   "metadata": {},
   "outputs": [
    {
     "name": "stdout",
     "output_type": "stream",
     "text": [
      "casestudy.ipynb  codealong.ipynb  embeddings.csv  exercises\r\n"
     ]
    }
   ],
   "source": [
    "! ls"
   ]
  },
  {
   "cell_type": "markdown",
   "id": "c6362dc3",
   "metadata": {},
   "source": [
    "If you want to stop the tutorial here and come back, you can reload `df` using this code (again adding your API key) rather than generating the embeddings again:"
   ]
  },
  {
   "cell_type": "code",
   "execution_count": 8,
   "id": "09921453",
   "metadata": {},
   "outputs": [],
   "source": [
    "# import numpy as np\n",
    "# import pandas as pd\n",
    "# import openai\n",
    "# openai.api_key = \"YOUR API KEY\"\n",
    "# df = pd.read_csv(\"embeddings.csv\", index_col=0)\n",
    "# df[\"embeddings\"] = df[\"embeddings\"].apply(eval).apply(np.array)"
   ]
  },
  {
   "cell_type": "code",
   "execution_count": 9,
   "id": "b5d9df3d",
   "metadata": {},
   "outputs": [
    {
     "data": {
      "text/html": [
       "<div>\n",
       "<style scoped>\n",
       "    .dataframe tbody tr th:only-of-type {\n",
       "        vertical-align: middle;\n",
       "    }\n",
       "\n",
       "    .dataframe tbody tr th {\n",
       "        vertical-align: top;\n",
       "    }\n",
       "\n",
       "    .dataframe thead th {\n",
       "        text-align: right;\n",
       "    }\n",
       "</style>\n",
       "<table border=\"1\" class=\"dataframe\">\n",
       "  <thead>\n",
       "    <tr style=\"text-align: right;\">\n",
       "      <th></th>\n",
       "      <th>text</th>\n",
       "      <th>embeddings</th>\n",
       "    </tr>\n",
       "  </thead>\n",
       "  <tbody>\n",
       "    <tr>\n",
       "      <th>0</th>\n",
       "      <td>– 2022 (MMXXII) was a common year starting on...</td>\n",
       "      <td>[0.00010590282181510702, -0.01799856312572956,...</td>\n",
       "    </tr>\n",
       "    <tr>\n",
       "      <th>1</th>\n",
       "      <td>– 2022 saw the removal of nearly all COVID-19...</td>\n",
       "      <td>[-0.009630735032260418, -0.023012317717075348,...</td>\n",
       "    </tr>\n",
       "    <tr>\n",
       "      <th>2</th>\n",
       "      <td>– 2022 was also dominated by wars and armed c...</td>\n",
       "      <td>[-0.009752900339663029, -0.0154692018404603, 0...</td>\n",
       "    </tr>\n",
       "    <tr>\n",
       "      <th>10</th>\n",
       "      <td>January 1 – The Regional Comprehensive Econom...</td>\n",
       "      <td>[-0.000557306339032948, -0.02417675219476223, ...</td>\n",
       "    </tr>\n",
       "    <tr>\n",
       "      <th>11</th>\n",
       "      <td>January 2 – Abdalla Hamdok resigns as Prime Mi...</td>\n",
       "      <td>[-0.014919677749276161, 0.0010699920821934938,...</td>\n",
       "    </tr>\n",
       "    <tr>\n",
       "      <th>...</th>\n",
       "      <td>...</td>\n",
       "      <td>...</td>\n",
       "    </tr>\n",
       "    <tr>\n",
       "      <th>238</th>\n",
       "      <td>December 17 – Leo Varadkar succeeds Micheál Ma...</td>\n",
       "      <td>[0.008589201606810093, -0.02222566492855549, -...</td>\n",
       "    </tr>\n",
       "    <tr>\n",
       "      <th>239</th>\n",
       "      <td>December 19 – At the UN Biodiversity Conferenc...</td>\n",
       "      <td>[0.0017541300039738417, -0.009293699637055397,...</td>\n",
       "    </tr>\n",
       "    <tr>\n",
       "      <th>240</th>\n",
       "      <td>December 21–26 – A major winter storm hits the...</td>\n",
       "      <td>[-0.02456366829574108, -0.020976591855287552, ...</td>\n",
       "    </tr>\n",
       "    <tr>\n",
       "      <th>241</th>\n",
       "      <td>December 24 – 2022 Fijian general election: Th...</td>\n",
       "      <td>[-0.011555586010217667, -0.009334595873951912,...</td>\n",
       "    </tr>\n",
       "    <tr>\n",
       "      <th>242</th>\n",
       "      <td>December 29 – Brazilian football legend Pelé d...</td>\n",
       "      <td>[-0.0032087962608784437, 0.00774135859683156, ...</td>\n",
       "    </tr>\n",
       "  </tbody>\n",
       "</table>\n",
       "<p>179 rows × 2 columns</p>\n",
       "</div>"
      ],
      "text/plain": [
       "                                                  text  \\\n",
       "0     – 2022 (MMXXII) was a common year starting on...   \n",
       "1     – 2022 saw the removal of nearly all COVID-19...   \n",
       "2     – 2022 was also dominated by wars and armed c...   \n",
       "10    January 1 – The Regional Comprehensive Econom...   \n",
       "11   January 2 – Abdalla Hamdok resigns as Prime Mi...   \n",
       "..                                                 ...   \n",
       "238  December 17 – Leo Varadkar succeeds Micheál Ma...   \n",
       "239  December 19 – At the UN Biodiversity Conferenc...   \n",
       "240  December 21–26 – A major winter storm hits the...   \n",
       "241  December 24 – 2022 Fijian general election: Th...   \n",
       "242  December 29 – Brazilian football legend Pelé d...   \n",
       "\n",
       "                                            embeddings  \n",
       "0    [0.00010590282181510702, -0.01799856312572956,...  \n",
       "1    [-0.009630735032260418, -0.023012317717075348,...  \n",
       "2    [-0.009752900339663029, -0.0154692018404603, 0...  \n",
       "10   [-0.000557306339032948, -0.02417675219476223, ...  \n",
       "11   [-0.014919677749276161, 0.0010699920821934938,...  \n",
       "..                                                 ...  \n",
       "238  [0.008589201606810093, -0.02222566492855549, -...  \n",
       "239  [0.0017541300039738417, -0.009293699637055397,...  \n",
       "240  [-0.02456366829574108, -0.020976591855287552, ...  \n",
       "241  [-0.011555586010217667, -0.009334595873951912,...  \n",
       "242  [-0.0032087962608784437, 0.00774135859683156, ...  \n",
       "\n",
       "[179 rows x 2 columns]"
      ]
     },
     "execution_count": 9,
     "metadata": {},
     "output_type": "execute_result"
    }
   ],
   "source": [
    "df"
   ]
  },
  {
   "cell_type": "markdown",
   "id": "482d3f08",
   "metadata": {},
   "source": [
    "# Step 2: Create a Function that Finds Related Pieces of Text for a Given Question\n",
    "\n",
    "What we are implementing here is similar to a search engine or recommendation algorithm. We want to sort all of the rows of our dataset from least relevant to most relevant.\n",
    "\n",
    "This will use the embeddings that we generated previously in order to compare the vectorized version of our question to the vectorized versions of the rows of the dataset."
   ]
  },
  {
   "cell_type": "code",
   "execution_count": 10,
   "id": "1f03ee28",
   "metadata": {},
   "outputs": [],
   "source": [
    "from openai.embeddings_utils import get_embedding, distances_from_embeddings\n",
    "\n",
    "def get_rows_sorted_by_relevance(question, df):\n",
    "    \"\"\"\n",
    "    Function that takes in a question string and a dataframe containing\n",
    "    rows of text and associated embeddings, and returns that dataframe\n",
    "    sorted from least to most relevant for that question\n",
    "    \"\"\"\n",
    "    \n",
    "    # Get embeddings for the question text\n",
    "    question_embeddings = get_embedding(question, engine=EMBEDDING_MODEL_NAME)\n",
    "    \n",
    "    # Make a copy of the dataframe and add a \"distances\" column containing\n",
    "    # the cosine distances between each row's embeddings and the\n",
    "    # embeddings of the question\n",
    "    df_copy = df.copy()\n",
    "    df_copy[\"distances\"] = distances_from_embeddings(\n",
    "        question_embeddings,\n",
    "        df_copy[\"embeddings\"].values,\n",
    "        distance_metric=\"cosine\"\n",
    "    )\n",
    "    \n",
    "    # Sort the copied dataframe by the distances and return it\n",
    "    # (shorter distance = more relevant so we sort in ascending order)\n",
    "    df_copy.sort_values(\"distances\", ascending=True, inplace=True)\n",
    "    return df_copy\n"
   ]
  },
  {
   "cell_type": "markdown",
   "id": "e46ca43c",
   "metadata": {},
   "source": [
    "Let's test that out for a couple different questions:"
   ]
  },
  {
   "cell_type": "code",
   "execution_count": 11,
   "id": "8b62af7b",
   "metadata": {},
   "outputs": [
    {
     "data": {
      "text/html": [
       "<div>\n",
       "<style scoped>\n",
       "    .dataframe tbody tr th:only-of-type {\n",
       "        vertical-align: middle;\n",
       "    }\n",
       "\n",
       "    .dataframe tbody tr th {\n",
       "        vertical-align: top;\n",
       "    }\n",
       "\n",
       "    .dataframe thead th {\n",
       "        text-align: right;\n",
       "    }\n",
       "</style>\n",
       "<table border=\"1\" class=\"dataframe\">\n",
       "  <thead>\n",
       "    <tr style=\"text-align: right;\">\n",
       "      <th></th>\n",
       "      <th>text</th>\n",
       "      <th>embeddings</th>\n",
       "      <th>distances</th>\n",
       "    </tr>\n",
       "  </thead>\n",
       "  <tbody>\n",
       "    <tr>\n",
       "      <th>53</th>\n",
       "      <td>March 2 – Russian invasion of Ukraine: Russia ...</td>\n",
       "      <td>[-5.313744259183295e-05, -0.019540982320904732...</td>\n",
       "      <td>0.107204</td>\n",
       "    </tr>\n",
       "    <tr>\n",
       "      <th>81</th>\n",
       "      <td>April 3 – Russian invasion of Ukraine: As Russ...</td>\n",
       "      <td>[-0.012224579229950905, -0.012439045123755932,...</td>\n",
       "      <td>0.111240</td>\n",
       "    </tr>\n",
       "    <tr>\n",
       "      <th>219</th>\n",
       "      <td>November 11 – Russian invasion of Ukraine: Ukr...</td>\n",
       "      <td>[-0.012288524769246578, -0.014076520688831806,...</td>\n",
       "      <td>0.115440</td>\n",
       "    </tr>\n",
       "    <tr>\n",
       "      <th>178</th>\n",
       "      <td>September 21 – Russian invasion of Ukraine: Fo...</td>\n",
       "      <td>[-0.025467626750469208, -0.022106871008872986,...</td>\n",
       "      <td>0.116772</td>\n",
       "    </tr>\n",
       "    <tr>\n",
       "      <th>205</th>\n",
       "      <td>October 29 – Russian invasion of Ukraine: In r...</td>\n",
       "      <td>[-0.00995244737714529, -0.030325081199407578, ...</td>\n",
       "      <td>0.117591</td>\n",
       "    </tr>\n",
       "    <tr>\n",
       "      <th>...</th>\n",
       "      <td>...</td>\n",
       "      <td>...</td>\n",
       "      <td>...</td>\n",
       "    </tr>\n",
       "    <tr>\n",
       "      <th>0</th>\n",
       "      <td>– 2022 (MMXXII) was a common year starting on...</td>\n",
       "      <td>[0.00010590282181510702, -0.01799856312572956,...</td>\n",
       "      <td>0.290258</td>\n",
       "    </tr>\n",
       "    <tr>\n",
       "      <th>76</th>\n",
       "      <td>March 31 – Expo 2020 closes in Dubai after a 6...</td>\n",
       "      <td>[-0.0031798682175576687, -0.04654951021075249,...</td>\n",
       "      <td>0.292542</td>\n",
       "    </tr>\n",
       "    <tr>\n",
       "      <th>218</th>\n",
       "      <td>November 11 – The cryptocurrency exchange FTX,...</td>\n",
       "      <td>[0.002234421204775572, -0.025721479207277298, ...</td>\n",
       "      <td>0.293966</td>\n",
       "    </tr>\n",
       "    <tr>\n",
       "      <th>227</th>\n",
       "      <td>November 20 – 2022 Nepalese general election: ...</td>\n",
       "      <td>[-0.004173628054559231, -0.0006245121476240456...</td>\n",
       "      <td>0.295012</td>\n",
       "    </tr>\n",
       "    <tr>\n",
       "      <th>83</th>\n",
       "      <td>April 4 – The Intergovernmental Panel on Clima...</td>\n",
       "      <td>[-0.010526918806135654, -0.01639522612094879, ...</td>\n",
       "      <td>0.297959</td>\n",
       "    </tr>\n",
       "  </tbody>\n",
       "</table>\n",
       "<p>179 rows × 3 columns</p>\n",
       "</div>"
      ],
      "text/plain": [
       "                                                  text  \\\n",
       "53   March 2 – Russian invasion of Ukraine: Russia ...   \n",
       "81   April 3 – Russian invasion of Ukraine: As Russ...   \n",
       "219  November 11 – Russian invasion of Ukraine: Ukr...   \n",
       "178  September 21 – Russian invasion of Ukraine: Fo...   \n",
       "205  October 29 – Russian invasion of Ukraine: In r...   \n",
       "..                                                 ...   \n",
       "0     – 2022 (MMXXII) was a common year starting on...   \n",
       "76   March 31 – Expo 2020 closes in Dubai after a 6...   \n",
       "218  November 11 – The cryptocurrency exchange FTX,...   \n",
       "227  November 20 – 2022 Nepalese general election: ...   \n",
       "83   April 4 – The Intergovernmental Panel on Clima...   \n",
       "\n",
       "                                            embeddings  distances  \n",
       "53   [-5.313744259183295e-05, -0.019540982320904732...   0.107204  \n",
       "81   [-0.012224579229950905, -0.012439045123755932,...   0.111240  \n",
       "219  [-0.012288524769246578, -0.014076520688831806,...   0.115440  \n",
       "178  [-0.025467626750469208, -0.022106871008872986,...   0.116772  \n",
       "205  [-0.00995244737714529, -0.030325081199407578, ...   0.117591  \n",
       "..                                                 ...        ...  \n",
       "0    [0.00010590282181510702, -0.01799856312572956,...   0.290258  \n",
       "76   [-0.0031798682175576687, -0.04654951021075249,...   0.292542  \n",
       "218  [0.002234421204775572, -0.025721479207277298, ...   0.293966  \n",
       "227  [-0.004173628054559231, -0.0006245121476240456...   0.295012  \n",
       "83   [-0.010526918806135654, -0.01639522612094879, ...   0.297959  \n",
       "\n",
       "[179 rows x 3 columns]"
      ]
     },
     "execution_count": 11,
     "metadata": {},
     "output_type": "execute_result"
    }
   ],
   "source": [
    "get_rows_sorted_by_relevance(\"When did Russia invade Ukraine?\", df)"
   ]
  },
  {
   "cell_type": "code",
   "execution_count": 12,
   "id": "9f4a3b50",
   "metadata": {},
   "outputs": [
    {
     "data": {
      "text/html": [
       "<div>\n",
       "<style scoped>\n",
       "    .dataframe tbody tr th:only-of-type {\n",
       "        vertical-align: middle;\n",
       "    }\n",
       "\n",
       "    .dataframe tbody tr th {\n",
       "        vertical-align: top;\n",
       "    }\n",
       "\n",
       "    .dataframe thead th {\n",
       "        text-align: right;\n",
       "    }\n",
       "</style>\n",
       "<table border=\"1\" class=\"dataframe\">\n",
       "  <thead>\n",
       "    <tr style=\"text-align: right;\">\n",
       "      <th></th>\n",
       "      <th>text</th>\n",
       "      <th>embeddings</th>\n",
       "      <th>distances</th>\n",
       "    </tr>\n",
       "  </thead>\n",
       "  <tbody>\n",
       "    <tr>\n",
       "      <th>200</th>\n",
       "      <td>October 28 – Elon Musk completes his $44 billi...</td>\n",
       "      <td>[-0.010232977569103241, -0.016145365312695503,...</td>\n",
       "      <td>0.172576</td>\n",
       "    </tr>\n",
       "    <tr>\n",
       "      <th>23</th>\n",
       "      <td>January 24 – The federal government under Scot...</td>\n",
       "      <td>[-0.008772625587880611, -0.00833724346011877, ...</td>\n",
       "      <td>0.248128</td>\n",
       "    </tr>\n",
       "    <tr>\n",
       "      <th>218</th>\n",
       "      <td>November 11 – The cryptocurrency exchange FTX,...</td>\n",
       "      <td>[0.002234421204775572, -0.025721479207277298, ...</td>\n",
       "      <td>0.261829</td>\n",
       "    </tr>\n",
       "    <tr>\n",
       "      <th>229</th>\n",
       "      <td>November 30 – OpenAI releases ChatGPT, an arti...</td>\n",
       "      <td>[-0.011353816837072372, -0.014404096640646458,...</td>\n",
       "      <td>0.264058</td>\n",
       "    </tr>\n",
       "    <tr>\n",
       "      <th>87</th>\n",
       "      <td>April 7 – President of Yemen Abdrabbuh Mansur ...</td>\n",
       "      <td>[-0.019039520993828773, -0.011974788270890713,...</td>\n",
       "      <td>0.276748</td>\n",
       "    </tr>\n",
       "    <tr>\n",
       "      <th>...</th>\n",
       "      <td>...</td>\n",
       "      <td>...</td>\n",
       "      <td>...</td>\n",
       "    </tr>\n",
       "    <tr>\n",
       "      <th>228</th>\n",
       "      <td>November 21 – A 5.6 earthquake strikes near Ci...</td>\n",
       "      <td>[0.0041956184431910515, -0.004137165378779173,...</td>\n",
       "      <td>0.324001</td>\n",
       "    </tr>\n",
       "    <tr>\n",
       "      <th>163</th>\n",
       "      <td>August 28 – 2022 Pakistan floods: Pakistan dec...</td>\n",
       "      <td>[-0.01177891343832016, -0.022811591625213623, ...</td>\n",
       "      <td>0.325749</td>\n",
       "    </tr>\n",
       "    <tr>\n",
       "      <th>169</th>\n",
       "      <td>September 5 – A 6.8 earthquake strikes Luding ...</td>\n",
       "      <td>[0.01267403457313776, 0.016342485323548317, 0....</td>\n",
       "      <td>0.326449</td>\n",
       "    </tr>\n",
       "    <tr>\n",
       "      <th>173</th>\n",
       "      <td>September 12 – September 2022 Armenia–Azerbaij...</td>\n",
       "      <td>[-0.01231068279594183, -0.009198245592415333, ...</td>\n",
       "      <td>0.326746</td>\n",
       "    </tr>\n",
       "    <tr>\n",
       "      <th>141</th>\n",
       "      <td>July 19 – 2022 European heat waves: A series o...</td>\n",
       "      <td>[-0.001833014190196991, -0.015050011686980724,...</td>\n",
       "      <td>0.336422</td>\n",
       "    </tr>\n",
       "  </tbody>\n",
       "</table>\n",
       "<p>179 rows × 3 columns</p>\n",
       "</div>"
      ],
      "text/plain": [
       "                                                  text  \\\n",
       "200  October 28 – Elon Musk completes his $44 billi...   \n",
       "23   January 24 – The federal government under Scot...   \n",
       "218  November 11 – The cryptocurrency exchange FTX,...   \n",
       "229  November 30 – OpenAI releases ChatGPT, an arti...   \n",
       "87   April 7 – President of Yemen Abdrabbuh Mansur ...   \n",
       "..                                                 ...   \n",
       "228  November 21 – A 5.6 earthquake strikes near Ci...   \n",
       "163  August 28 – 2022 Pakistan floods: Pakistan dec...   \n",
       "169  September 5 – A 6.8 earthquake strikes Luding ...   \n",
       "173  September 12 – September 2022 Armenia–Azerbaij...   \n",
       "141  July 19 – 2022 European heat waves: A series o...   \n",
       "\n",
       "                                            embeddings  distances  \n",
       "200  [-0.010232977569103241, -0.016145365312695503,...   0.172576  \n",
       "23   [-0.008772625587880611, -0.00833724346011877, ...   0.248128  \n",
       "218  [0.002234421204775572, -0.025721479207277298, ...   0.261829  \n",
       "229  [-0.011353816837072372, -0.014404096640646458,...   0.264058  \n",
       "87   [-0.019039520993828773, -0.011974788270890713,...   0.276748  \n",
       "..                                                 ...        ...  \n",
       "228  [0.0041956184431910515, -0.004137165378779173,...   0.324001  \n",
       "163  [-0.01177891343832016, -0.022811591625213623, ...   0.325749  \n",
       "169  [0.01267403457313776, 0.016342485323548317, 0....   0.326449  \n",
       "173  [-0.01231068279594183, -0.009198245592415333, ...   0.326746  \n",
       "141  [-0.001833014190196991, -0.015050011686980724,...   0.336422  \n",
       "\n",
       "[179 rows x 3 columns]"
      ]
     },
     "execution_count": 12,
     "metadata": {},
     "output_type": "execute_result"
    }
   ],
   "source": [
    "get_rows_sorted_by_relevance(\"Who owns Twitter?\", df)"
   ]
  },
  {
   "cell_type": "markdown",
   "id": "d7468993",
   "metadata": {},
   "source": [
    "# Step 3: Create a Function that Composes a Text Prompt\n",
    "\n",
    "Building on that sorted list of rows, we're going to select the create a text prompt that provides context to a `Completion` model in order to help it answer a question. The outline of the prompt looks like this:"
   ]
  },
  {
   "cell_type": "markdown",
   "id": "dab2a827",
   "metadata": {},
   "source": [
    "```\n",
    "Answer the question based on the context below, and if the\n",
    "question can't be answered based on the context, say \"I don't\n",
    "know\"\n",
    "\n",
    "Context:\n",
    "\n",
    "{context}\n",
    "\n",
    "---\n",
    "\n",
    "Question: {question}\n",
    "Answer:\n",
    "```"
   ]
  },
  {
   "cell_type": "markdown",
   "id": "1c74ff9d",
   "metadata": {},
   "source": [
    "We want to fit as much of our dataset as possible into the \"context\" part of the prompt without exceeding the number of tokens allowed by the `Completion` model, which is currently 4,000. So we'll loop over the dataset, counting the tokens as we go, and stop when we hit the limit. Then we'll join that list of text data into a single string and add it to the prompt."
   ]
  },
  {
   "cell_type": "code",
   "execution_count": 13,
   "id": "9c237429",
   "metadata": {},
   "outputs": [],
   "source": [
    "import tiktoken\n",
    "\n",
    "def create_prompt(question, df, max_token_count):\n",
    "    \"\"\"\n",
    "    Given a question and a dataframe containing rows of text and their\n",
    "    embeddings, return a text prompt to send to a Completion model\n",
    "    \"\"\"\n",
    "    # Create a tokenizer that is designed to align with our embeddings\n",
    "    tokenizer = tiktoken.get_encoding(\"cl100k_base\")\n",
    "    \n",
    "    # Count the number of tokens in the prompt template and question\n",
    "    prompt_template = \"\"\"\n",
    "Answer the question based on the context below, and if the question\n",
    "can't be answered based on the context, say \"I don't know\"\n",
    "\n",
    "Context: \n",
    "\n",
    "{}\n",
    "\n",
    "---\n",
    "\n",
    "Question: {}\n",
    "Answer:\"\"\"\n",
    "    \n",
    "    current_token_count = len(tokenizer.encode(prompt_template)) + \\\n",
    "                            len(tokenizer.encode(question))\n",
    "    \n",
    "    context = []\n",
    "    for text in get_rows_sorted_by_relevance(question, df)[\"text\"].values:\n",
    "        \n",
    "        # Increase the counter based on the number of tokens in this row\n",
    "        text_token_count = len(tokenizer.encode(text))\n",
    "        current_token_count += text_token_count\n",
    "        \n",
    "        # Add the row of text to the list if we haven't exceeded the max\n",
    "        if current_token_count <= max_token_count:\n",
    "            context.append(text)\n",
    "        else:\n",
    "            break\n",
    "\n",
    "    return prompt_template.format(\"\\n\\n###\\n\\n\".join(context), question)\n",
    "    "
   ]
  },
  {
   "cell_type": "markdown",
   "id": "5f2c6a02",
   "metadata": {},
   "source": [
    "Now let's test that out! We'll use a `max_token_count` below the actual limit just to keep the output shorter and more readable."
   ]
  },
  {
   "cell_type": "code",
   "execution_count": 14,
   "id": "eb5d6882",
   "metadata": {},
   "outputs": [
    {
     "name": "stdout",
     "output_type": "stream",
     "text": [
      "\n",
      "Answer the question based on the context below, and if the question\n",
      "can't be answered based on the context, say \"I don't know\"\n",
      "\n",
      "Context: \n",
      "\n",
      "March 2 – Russian invasion of Ukraine: Russia seizes its first large city, the Black Sea port of Kherson, as shelling intensifies across many parts of Ukraine, including civilian areas.\n",
      "\n",
      "###\n",
      "\n",
      "April 3 – Russian invasion of Ukraine: As Russia's forces retreat from areas near Kyiv, it is accused by Ukraine of war crimes, amid mounting evidence of indiscriminate civilian killings, including the Bucha massacre.\n",
      "\n",
      "###\n",
      "\n",
      "November 11 – Russian invasion of Ukraine: Ukrainian forces recapture Kherson, the only regional capital to be taken by Russia since the start of the war.\n",
      "\n",
      "---\n",
      "\n",
      "Question: When did Russia invade Ukraine?\n",
      "Answer:\n"
     ]
    }
   ],
   "source": [
    "print(create_prompt(\"When did Russia invade Ukraine?\", df, 200))"
   ]
  },
  {
   "cell_type": "code",
   "execution_count": 15,
   "id": "c7b6fb2a",
   "metadata": {},
   "outputs": [
    {
     "name": "stdout",
     "output_type": "stream",
     "text": [
      "\n",
      "Answer the question based on the context below, and if the question\n",
      "can't be answered based on the context, say \"I don't know\"\n",
      "\n",
      "Context: \n",
      "\n",
      "October 28 – Elon Musk completes his $44 billion acquisition of Twitter.\n",
      "\n",
      "###\n",
      "\n",
      "January 24 – The federal government under Scott Morrison announces that, after more than three years of confidential negotiations, copyright ownership of the Australian Aboriginal Flag has been transferred to the Commonwealth.\n",
      "\n",
      "---\n",
      "\n",
      "Question: Who owns Twitter?\n",
      "Answer:\n"
     ]
    }
   ],
   "source": [
    "print(create_prompt(\"Who owns Twitter?\", df, 100))"
   ]
  },
  {
   "cell_type": "markdown",
   "id": "403f11b5",
   "metadata": {},
   "source": [
    "# Step 4: Create a Function that Answers a Question\n",
    "\n",
    "Our final step is to send that text prompt to a `Completion` model and parse the model output!"
   ]
  },
  {
   "cell_type": "code",
   "execution_count": 16,
   "id": "5004879e",
   "metadata": {},
   "outputs": [],
   "source": [
    "COMPLETION_MODEL_NAME = \"text-davinci-003\"\n",
    "\n",
    "def answer_question(\n",
    "    question, df, max_prompt_tokens=1800, max_answer_tokens=150\n",
    "):\n",
    "    \"\"\"\n",
    "    Given a question, a dataframe containing rows of text, and a maximum\n",
    "    number of desired tokens in the prompt and response, return the\n",
    "    answer to the question according to an OpenAI Completion model\n",
    "    \n",
    "    If the model produces an error, return an empty string\n",
    "    \"\"\"\n",
    "    \n",
    "    prompt = create_prompt(question, df, max_prompt_tokens)\n",
    "    \n",
    "    try:\n",
    "        response = openai.Completion.create(\n",
    "            model=COMPLETION_MODEL_NAME,\n",
    "            prompt=prompt,\n",
    "            max_tokens=max_answer_tokens\n",
    "        )\n",
    "        return response[\"choices\"][0][\"text\"].strip()\n",
    "    except Exception as e:\n",
    "        print(e)\n",
    "        return \"\"\n",
    "        "
   ]
  },
  {
   "cell_type": "markdown",
   "id": "6598a361",
   "metadata": {},
   "source": [
    "Now that we have all of the code complete, let's test it out!"
   ]
  },
  {
   "cell_type": "code",
   "execution_count": 17,
   "id": "16adca80",
   "metadata": {},
   "outputs": [
    {
     "name": "stdout",
     "output_type": "stream",
     "text": [
      "February 21–24 – Russian President Vladimir Putin signs a decree declaring the Luhansk People's Republic and Donetsk People's Republic as independent from Ukraine, and, despite international condemnation and sanctions, begins a full-scale invasion of Ukraine; at dawn on 24 February missiles strike Kyiv.\n"
     ]
    }
   ],
   "source": [
    "custom_ukraine_answer = answer_question(\"When did Russia invade Ukraine?\", df)\n",
    "print(custom_ukraine_answer)"
   ]
  },
  {
   "cell_type": "code",
   "execution_count": 18,
   "id": "f71822dc",
   "metadata": {},
   "outputs": [
    {
     "name": "stdout",
     "output_type": "stream",
     "text": [
      "Elon Musk\n"
     ]
    }
   ],
   "source": [
    "custom_twitter_answer = answer_question(\"Who owns Twitter?\", df)\n",
    "print(custom_twitter_answer)"
   ]
  },
  {
   "cell_type": "markdown",
   "id": "15ad6fb6",
   "metadata": {},
   "source": [
    "Below we compare answers with and without our custom prompt:"
   ]
  },
  {
   "cell_type": "code",
   "execution_count": 19,
   "id": "8577558a",
   "metadata": {},
   "outputs": [
    {
     "name": "stdout",
     "output_type": "stream",
     "text": [
      "\n",
      "When did Russia invade Ukraine?\n",
      "\n",
      "Original Answer: Russia invaded Ukraine in 2014.\n",
      "Custom Answer:   February 21–24 – Russian President Vladimir Putin signs a decree declaring the Luhansk People's Republic and Donetsk People's Republic as independent from Ukraine, and, despite international condemnation and sanctions, begins a full-scale invasion of Ukraine; at dawn on 24 February missiles strike Kyiv.\n",
      "\n",
      "Who owns Twitter?\n",
      "Original Answer: Twitter is owned by the publicly traded company, Twitter Inc. (NYSE: TWTR).\n",
      "Custom Answer:   Elon Musk\n",
      "\n"
     ]
    }
   ],
   "source": [
    "print(f\"\"\"\n",
    "When did Russia invade Ukraine?\n",
    "\n",
    "Original Answer: {initial_ukraine_answer}\n",
    "Custom Answer:   {custom_ukraine_answer}\n",
    "\n",
    "Who owns Twitter?\n",
    "Original Answer: {initial_twitter_answer}\n",
    "Custom Answer:   {custom_twitter_answer}\n",
    "\"\"\")"
   ]
  },
  {
   "cell_type": "markdown",
   "id": "9ecaede2",
   "metadata": {},
   "source": [
    "## Summary\n",
    "\n",
    "Using unsupervised machine learning to perform prompt engineering for custom OpenAI chat responses!\n",
    "\n",
    "In this example, we provided context from 2022 news headlines to answer questions about current events."
   ]
  }
 ],
 "metadata": {
  "kernelspec": {
   "display_name": "Python 3 (ipykernel)",
   "language": "python",
   "name": "python3"
  },
  "language_info": {
   "codemirror_mode": {
    "name": "ipython",
    "version": 3
   },
   "file_extension": ".py",
   "mimetype": "text/x-python",
   "name": "python",
   "nbconvert_exporter": "python",
   "pygments_lexer": "ipython3",
   "version": "3.8.17"
  }
 },
 "nbformat": 4,
 "nbformat_minor": 5
}
